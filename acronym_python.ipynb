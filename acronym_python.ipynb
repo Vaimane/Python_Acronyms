{
 "cells": [
  {
   "cell_type": "markdown",
   "metadata": {},
   "source": [
    "# Create acronyms using Python.."
   ]
  },
  {
   "cell_type": "code",
   "execution_count": 7,
   "metadata": {},
   "outputs": [
    {
     "name": "stdout",
     "output_type": "stream",
     "text": [
      "Enter A String deep learning\n",
      "acronym for user_input is: DL\n"
     ]
    }
   ],
   "source": [
    "# first taking a string user input\n",
    "\n",
    "User_Input = str(input('Enter A String '))\n",
    "\n",
    "# then using split() fun' for splitting the sentence.\n",
    "\n",
    "New_text = User_Input.split()\n",
    "\n",
    "T=''\n",
    "\n",
    "# use for loop \n",
    "\n",
    "for i in New_text:\n",
    "    T=T+str(i[0]).upper()\n",
    "print(\"acronym for user_input is:\",T)"
   ]
  },
  {
   "cell_type": "code",
   "execution_count": null,
   "metadata": {},
   "outputs": [],
   "source": []
  }
 ],
 "metadata": {
  "kernelspec": {
   "display_name": "Python 3",
   "language": "python",
   "name": "python3"
  },
  "language_info": {
   "codemirror_mode": {
    "name": "ipython",
    "version": 3
   },
   "file_extension": ".py",
   "mimetype": "text/x-python",
   "name": "python",
   "nbconvert_exporter": "python",
   "pygments_lexer": "ipython3",
   "version": "3.8.3"
  }
 },
 "nbformat": 4,
 "nbformat_minor": 4
}
